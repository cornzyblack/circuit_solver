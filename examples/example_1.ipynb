{
 "cells": [
  {
   "cell_type": "markdown",
   "metadata": {},
   "source": [
    "# Resistors"
   ]
  },
  {
   "cell_type": "code",
   "execution_count": 1,
   "metadata": {},
   "outputs": [],
   "source": [
    "from src.components import Resistor"
   ]
  },
  {
   "cell_type": "markdown",
   "metadata": {},
   "source": [
    "## Series Resistors"
   ]
  },
  {
   "cell_type": "code",
   "execution_count": 2,
   "metadata": {},
   "outputs": [],
   "source": [
    "resistor_1 = Resistor(\"10kΩ\", 1, 0)\n",
    "resistor_2 = Resistor(\"2kΩ\", 2, 1)"
   ]
  },
  {
   "cell_type": "code",
   "execution_count": 3,
   "metadata": {
    "tags": []
   },
   "outputs": [
    {
     "output_type": "stream",
     "name": "stdout",
     "text": "Resistor has a value of 10000.0 Ω and starts at Node 0 and Node 1\nResistor has a value of 2000.0 Ω and starts at Node 1 and Node 2\n"
    }
   ],
   "source": [
    "print(resistor_1)\n",
    "print(resistor_2)"
   ]
  },
  {
   "cell_type": "code",
   "execution_count": 4,
   "metadata": {},
   "outputs": [],
   "source": [
    "series_resistor = resistor_1+resistor_2"
   ]
  },
  {
   "cell_type": "code",
   "execution_count": 5,
   "metadata": {
    "tags": []
   },
   "outputs": [
    {
     "output_type": "stream",
     "name": "stdout",
     "text": "Resistor has a value of 12000.0 Ω and starts at Node 0 and Node 1\n"
    }
   ],
   "source": [
    "print(series_resistor)"
   ]
  },
  {
   "cell_type": "markdown",
   "metadata": {},
   "source": [
    "## Series Resistors with Current"
   ]
  },
  {
   "cell_type": "code",
   "execution_count": 6,
   "metadata": {},
   "outputs": [],
   "source": [
    "resistor_1 = Resistor(\"10kΩ\", 1, 0)\n",
    "resistor_2 = Resistor(\"2kΩ\", 2, 1, current=10)\n"
   ]
  },
  {
   "cell_type": "code",
   "execution_count": 7,
   "metadata": {
    "tags": []
   },
   "outputs": [
    {
     "output_type": "stream",
     "name": "stdout",
     "text": "The current of the resistors in Series is 10\n"
    }
   ],
   "source": [
    "series_resistor = resistor_1+resistor_2\n",
    "print(f\"The current of the resistors in Series is {series_resistor.current}\")"
   ]
  },
  {
   "cell_type": "code",
   "execution_count": 8,
   "metadata": {},
   "outputs": [],
   "source": [
    "## Parallel Resistors"
   ]
  },
  {
   "cell_type": "code",
   "execution_count": 9,
   "metadata": {
    "tags": []
   },
   "outputs": [
    {
     "output_type": "stream",
     "name": "stdout",
     "text": "Resistor has a value of 10000.0 Ω and starts at Node 0 and Node 1\nResistor has a value of 2000.0 Ω and starts at Node 0 and Node 1\n"
    }
   ],
   "source": [
    "resistor_3 = Resistor(\"10kΩ\", 1, 0)\n",
    "resistor_4 = Resistor(\"2kΩ\", 0, 1)\n",
    "\n",
    "print(resistor_3)\n",
    "print(resistor_4)"
   ]
  },
  {
   "cell_type": "code",
   "execution_count": 10,
   "metadata": {
    "tags": []
   },
   "outputs": [
    {
     "output_type": "stream",
     "name": "stdout",
     "text": "Resistor has a value of 1666.6666666666665 Ω and starts at Node 0 and Node 1\n"
    }
   ],
   "source": [
    "parallel_resistor = resistor_3 | resistor_4\n",
    "\n",
    "print(parallel_resistor)"
   ]
  },
  {
   "cell_type": "markdown",
   "metadata": {},
   "source": [
    "## Parallel Resistors with voltage"
   ]
  },
  {
   "cell_type": "code",
   "execution_count": 12,
   "metadata": {
    "tags": []
   },
   "outputs": [
    {
     "output_type": "stream",
     "name": "stdout",
     "text": "Resistor has a value of 2000.0 Ω and starts at Node 0 and Node 1\nResistor has a value of 10000.0 Ω and starts at Node 0 and Node 1\n"
    }
   ],
   "source": [
    "resistor_5 = Resistor(\"10kΩ\", 1, 0, voltage=5.0)\n",
    "resistor_6 = Resistor(\"2kΩ\", 0, 1)\n",
    "\n",
    "print(resistor_4)\n",
    "print(resistor_5)\n",
    "\n",
    "parallel_resistor = resistor_4 | resistor_5"
   ]
  },
  {
   "cell_type": "code",
   "execution_count": 13,
   "metadata": {
    "tags": []
   },
   "outputs": [
    {
     "output_type": "stream",
     "name": "stdout",
     "text": "The voltage of the resistors in parallel is 5.0 volts\n"
    }
   ],
   "source": [
    "print(f\"The voltage of the resistors in parallel is {parallel_resistor.voltage} volts\")"
   ]
  },
  {
   "cell_type": "code",
   "execution_count": null,
   "metadata": {},
   "outputs": [],
   "source": []
  }
 ],
 "metadata": {
  "kernelspec": {
   "name": "python_defaultSpec_1596201143916",
   "display_name": "Python 3.8.2 64-bit ('venv': venv)"
  }
 },
 "nbformat": 4,
 "nbformat_minor": 4
}